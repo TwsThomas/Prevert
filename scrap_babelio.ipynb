{
 "cells": [
  {
   "cell_type": "code",
   "execution_count": 1,
   "metadata": {},
   "outputs": [],
   "source": [
    "import pandas as pd\n",
    "import numpy as np\n",
    "import os\n",
    "import re\n",
    "import time\n",
    "\n",
    "from scrap_utils import Quote, convert_manual_author, extrat_quote, tokenize, get_babelio_citation, scrap_recent_babelio\n",
    "%load_ext autoreload\n",
    "%autoreload 2"
   ]
  },
  {
   "cell_type": "code",
   "execution_count": 5,
   "metadata": {},
   "outputs": [
    {
     "name": "stdout",
     "output_type": "stream",
     "text": [
      "Blake\n",
      "rosenberg\n",
      "Issa\n",
      "Erri de Luca\n",
      "prevert\n",
      "Nazim Hikmet\n",
      "Eichendorff\n",
      "Kipling\n",
      "bobin\n",
      "(22, 16)\n",
      " ------ author okay ------ \n",
      "Concatenating babelio data...\n",
      "Christian Bobin.csv, Michel Foucault.csv, Platon.csv, Issa.csv, Aristote.csv, Paulo Coelho.csv, Fernando Pessoa.csv, Christophe Andre.csv, Jacques Lacan.csv, Spinoza.csv, Buson Yosa.csv, Shoichi Taneda.csv, Jack Kerouac.csv, Paul Verlaine.csv, Alain Damasio.csv, Francoise Dolto.csv, Basho Matsuo.csv, Philippe Jaccottet.csv, Matthieu Ricard.csv, Andre Breton.csv, Andre Comte Sponville.csv, ric Emmanuel Schmitt.csv, Albert Camus.csv, Shiki Masaoka.csv, Ito Ogawa.csv, Natsume Soseki.csv, Paul luard.csv, Rene Char.csv, Rene Barjavel.csv, Andre Gide.csv, Arthur Schopenhauer.csv, Thomas dAnsembourg.csv, Rainer Maria Rilke.csv, Hiromi Kawakami.csv, Charles Bukowski.csv, Marshall B Rosenberg.csv, Dalai Lama.csv, Frederic Lenoir.csv, Gilles Deleuze.csv, Michel Onfray.csv, Yasunari Kawabata.csv, Friedrich Nietzsche.csv, Boris Cyrulnik.csv, Pierre Bourdieu.csv, \n",
      "Concatenating babelio_recents data...\n",
      "40.csv, 140.csv, 220.csv, 80.csv, 180.csv, 190.csv, 90.csv, 230.csv, 150.csv, 50.csv, 240.csv, 280.csv, 20.csv, 120.csv, 130.csv, 30.csv, 290.csv, 250.csv, 300.csv, 260.csv, 100.csv, 10.csv, 110.csv, 270.csv, 160.csv, 60.csv, 200.csv, 210.csv, 70.csv, 170.csv, \n",
      "Done.\n",
      " ---  (69144, 16)\n",
      "Done.\n"
     ]
    }
   ],
   "source": [
    "def concat_babelio():\n",
    "    babe = os.listdir(\"data/babelio\")\n",
    "    ldf = []\n",
    "    print('Concatenating babelio data...')\n",
    "    for file in babe:\n",
    "        df = pd.read_csv(f\"data/babelio/{file}\")\n",
    "        haikiste = [\"haiku\", \"Buson\",\"Basho\",\"Shiki\",\"Issa\",\"Natsume\",\"Yasunari\",\"Hiromi\",\"Ogawa\",\"Shoichi\",\"Basho\",\"Shiki\",\"Issa\",\"Soseki\",\"Kawabata\",\"Kawakami\",\"Ogawa\",\"Taneda\"]\n",
    "        df.haiku = False\n",
    "        for haiki in haikiste:\n",
    "            if tokenize(haiki) in tokenize(file):\n",
    "                df.haiku = True\n",
    "        print(file, end=', ')\n",
    "        ldf.append(df)\n",
    "    print()\n",
    "    print('Concatenating babelio_recents data...')\n",
    "    for file in os.listdir(\"data/babelio_recents\"):\n",
    "        print(file, end=', ')\n",
    "        df = pd.read_csv(f\"data/babelio_recents/{file}\")\n",
    "        df.haiku = False\n",
    "        ldf.append(df)\n",
    "    print()\n",
    "    \n",
    "    df = pd.concat(ldf)\n",
    "    print('Done.')\n",
    "    print(' --- ', df.shape)\n",
    "    df.to_csv('data/babelio_data.csv')\n",
    "    print('Done.')\n",
    "\n",
    "def merge_all_data_csv():\n",
    "    convert_manual_author()\n",
    "    concat_babelio()\n",
    "\n",
    "    # TODO: concat 'data/author_data.csv' and 'data/babelio_data.csv'\n",
    "\n",
    "merge_all_data_csv()"
   ]
  },
  {
   "cell_type": "code",
   "execution_count": null,
   "metadata": {},
   "outputs": [],
   "source": []
  },
  {
   "cell_type": "code",
   "execution_count": null,
   "metadata": {},
   "outputs": [
    {
     "name": "stdout",
     "output_type": "stream",
     "text": [
      "len(l_url)=5\n",
      "Andre Gide: 2.2.2.2.2.2.2.2.2.2.2.2.2.2.2.2.2.2.2.2.2.2.2.2.2.2.2.2.2.2.2.2.2.2.2.2.2.2.2.2.2.2.2.2.2.2.2.2.2.2.2.2.2.2.2.2.2.2.2.2.2.2.2.2.2.2.2.2.2.2.2.2.2.2.2.2.2.2.2.2.2.2.2.2.2.2.2.2.2.2.2.2.2.2.2.0.xxx\n",
      " ----  Andre Gide  lenght=1902   npage=99\n",
      "ric Emmanuel Schmitt: 2.2.2.2.2.2.2.2.2.2.2.2.2.2.2.2.2.2.2.2.2.2.2.2.2.2.2.2.2.2.2.2.2.2.2.2.2.2.2.2.2.2.2.2.2.2.2.2.2.2.2.2.2.2.2.2.2.2.2.2.2.2.2.2.2.2.2.2.2.2.2.2.2.2.2.2.2.2.2.2.2.2.2.2.2.2.2.2.2.2.2.2.2.2.2.2.2.2.2.2.2.2.2.2.2.2.2.2.2.2.2.2.2.2.2.2.2.2.2.2.2.2.2.2.2.2.2.2.2.2.2.2.2.2.2.2.2.2.2.2.2.2.2.2.2.2.2.2.2.2.2.2.2.2.2.2.2.2.2.2.2.2.2.2.2.2.2.2.2.2.2.2.2.2.2.2.2.2.2.2.2.2.2.2.2.2.2.2.2.2.2.2.2.2.2.2.2.2.2.2.2.2.2.2.2.2.2.2.2.2.2.2.2.2.2.2.2.2.2.2.2.2.2.2.2.2.2.2.2.2.2.2.2.2.2.2.2.2.2.2.2.2.2.2.2.2.2.2.2.2.2.2.2.2.2.2.2.2.2.2.2.2.2.2.2.2.2.2.2.2.2.2.2.2.2.2.2.2.2.2.2.2.2.2.2.2.2.2.2.2.2.2.2.2.2.2.2.2.2.2.2.2.2.2.2.2.2.2.2.2.2.2.2.2.2.2.2.2.2.2.2.2.2.2.2.2.2.2.2.2.2.2.2.2.2.2.2.2.2.2.2.2.2.2.2.2.2.2.2.2.2.2.2.2.2.2.2.2.2.2.2.2.2.2.2.2.2.2.2.2.2.2.2.2.2.2.2.2.2.2.2.2.1.xxx\n",
      " ----  ric Emmanuel Schmitt  lenght=7651   npage=386\n",
      "Albert Camus: 2.2.2.2.2.2.2.2.2.2.2.2.2.2.2.2.2.2.2.2.2.2.2.2.2.2.2.2.2.2.2.2.2.2.2.2.2.2.2.2.2.2.2.2.2.2.2.2.2.2.2.2.2.2.2.2.2.2.2.2.2.2.2.2.2.2.2.2.2.2.2.2.2.2.2.2.2.2.2.2.2.2.2.2.2.2.2.2.2.2.2.2.2.2.2.2.2.2.2.2.2.2.2.2.2.2.2.2.2.2.2.2.2.2.2.2.2.2.2.2.2.2.2.2.2.2.2.2.2.2.2.2.2.2.2.2.2.2.2.2.2.2.2.2.2.2.2.2.2.2.2.2.2.2.2.2.2.2.2.2.2.2.2.2.2.2.2.2.2.2.2.2.2.2.2.2.2.2.2.2.2.2.2.2.2.2.2.2.2.2.2.2.2.2.2.2.2.2.2.2.2.2.2.2.2.2.2.2.2.2.2.2.2.2.2.2.2.2.2.2.2.2.2.2.2.2.2.2.2.2.2.2.2.2.2.2.2.2.2.2.2.2.2.2.2.2.2.2.2.2.2.2.2.2.2.2.2.2.2.2.2.2.2.2.2.2.2.2.2.2.2.2.2.2.2.2.2.2.2.2.2.2.2.2.2.2.2.2.2.2.2.2.2.2.2.2.2.2.2.2.2.2.2.2.2.2.2.2.2.2.2.2.2.2.2.2.2.2.2.2.2.2.2.2.2.2.2.2.2.2.2.2.2.2.2.2.2.2.2.2.2.2.2.2.2.2.2.2.2.2.1.xxx\n",
      " ----  Albert Camus  lenght=7011   npage=354\n"
     ]
    }
   ],
   "source": [
    "l_url = \"\"\"https://www.babelio.com/auteur/Marshall-B-Rosenberg/26325/citations\n",
    "https://www.babelio.com/auteur/Paul-Verlaine/6210/citations\n",
    "https://www.babelio.com/auteur/Rene-Char/2588/citations\n",
    "https://www.babelio.com/auteur/Paul-luard/2837/citations\n",
    "https://www.babelio.com/auteur/Andre-Breton/2328/citations\n",
    "https://www.babelio.com/auteur/Christophe-Andre/4448/citations\n",
    "https://www.babelio.com/auteur/Boris-Cyrulnik/2779/citations\n",
    "https://www.babelio.com/auteur/Francoise-Dolto/4462/citations\n",
    "https://www.babelio.com/auteur/Jacques-Lacan/10879/citations\n",
    "https://www.babelio.com/auteur/Michel-Foucault/1954/citations\n",
    "https://www.babelio.com/auteur/Pierre-Bourdieu/3686/citations\n",
    "https://www.babelio.com/auteur/Friedrich-Nietzsche/2132/citations\n",
    "https://www.babelio.com/auteur/Arthur-Schopenhauer/2535/citations\n",
    "https://www.babelio.com/auteur/-Aristote/2654/citations\n",
    "https://www.babelio.com/auteur/-Spinoza/5204/citations\n",
    "https://www.babelio.com/auteur/Michel-Onfray/6578/citations\n",
    "https://www.babelio.com/auteur/-Platon/3437/citations\n",
    "https://www.babelio.com/auteur/Andre-Comte-Sponville/2765/citations\n",
    "https://www.babelio.com/auteur/Gilles-Deleuze/2062/citations\n",
    "https://www.babelio.com/auteur/Matthieu-Ricard/17721/citations\n",
    "https://www.babelio.com/auteur/-Dalai-Lama/26518/citations\n",
    "https://www.babelio.com/auteur/Paulo-Coelho/3637/citations\n",
    "https://www.babelio.com/auteur/Thomas-dAnsembourg/116526/citations\n",
    "https://www.babelio.com/auteur/Jack-Kerouac/1924/citations\n",
    "https://www.babelio.com/auteur/Charles-Bukowski/1958/citations\n",
    "https://www.babelio.com/auteur/Rene-Barjavel/3386/citations\n",
    "https://www.babelio.com/auteur/Fernando-Pessoa/2526/citations\n",
    "https://www.babelio.com/auteur/Buson-Yosa/87318/citations\n",
    "https://www.babelio.com/auteur/Basho-Matsuo/69220/citations\n",
    "https://www.babelio.com/auteur/Shiki-Masaoka/87329/citations\n",
    "https://www.babelio.com/auteur/-Issa/69056/citations\n",
    "https://www.babelio.com/auteur/Natsume-Soseki/26696/citations\n",
    "https://www.babelio.com/auteur/Yasunari-Kawabata/2196/citations\n",
    "https://www.babelio.com/auteur/Hiromi-Kawakami/5805/citations\n",
    "https://www.babelio.com/auteur/Ito-Ogawa/277941/citations\n",
    "https://www.babelio.com/auteur/Shoichi-Taneda/191893/citations\n",
    "https://www.babelio.com/auteur/Alain-Damasio/5151/citations\n",
    "https://www.babelio.com/auteur/Frederic-Lenoir/7076/citations\n",
    "https://www.babelio.com/auteur/Andre-Gide/2091/citations\n",
    "https://www.babelio.com/auteur/ric-Emmanuel-Schmitt/3156/citations\n",
    "https://www.babelio.com/auteur/Albert-Camus/2615/citations\n",
    "https://www.babelio.com/auteur/Christian-Bobin/2713/citations\n",
    "https://www.babelio.com/auteur/Philippe-Jaccottet/4662/citations\n",
    "https://www.babelio.com/auteur/Rainer-Maria-Rilke/26193/citations\"\"\"\n",
    "\n",
    "def scrap_all_author(l_url):\n",
    "    l_url = l_url.split('\\n')\n",
    "    print(f'{len(l_url)=}')\n",
    "    for url in l_url:\n",
    "        get_babelio_citation(url)\n",
    "        time.sleep(121)"
   ]
  },
  {
   "cell_type": "code",
   "execution_count": 44,
   "metadata": {},
   "outputs": [
    {
     "name": "stderr",
     "output_type": "stream",
     "text": [
      "/var/folders/fg/s665ygqj6gq0l21kgx9k0rxm0000gp/T/ipykernel_22599/3960645370.py:1: DtypeWarning: Columns (16) have mixed types. Specify dtype option on import or set low_memory=False.\n",
      "  babelio_data = pd.read_csv('data/babelio_data.csv')\n",
      "/var/folders/fg/s665ygqj6gq0l21kgx9k0rxm0000gp/T/ipykernel_22599/3960645370.py:6: FutureWarning: Behavior when concatenating bool-dtype and numeric-dtype arrays is deprecated; in a future version these will cast to object dtype (instead of coercing bools to numeric values). To retain the old behavior, explicitly cast bool-dtype arrays to numeric dtype.\n",
      "  data = pd.concat([babelio_data, eclair_data, kerouac, manual], ignore_index = True)\n"
     ]
    },
    {
     "name": "stdout",
     "output_type": "stream",
     "text": [
      "(70158, 16)\n",
      "(56277, 16)\n"
     ]
    }
   ],
   "source": []
  },
  {
   "cell_type": "code",
   "execution_count": 41,
   "metadata": {},
   "outputs": [
    {
     "name": "stderr",
     "output_type": "stream",
     "text": [
      "/var/folders/fg/s665ygqj6gq0l21kgx9k0rxm0000gp/T/ipykernel_22599/1175045148.py:1: FutureWarning: Behavior when concatenating bool-dtype and numeric-dtype arrays is deprecated; in a future version these will cast to object dtype (instead of coercing bools to numeric values). To retain the old behavior, explicitly cast bool-dtype arrays to numeric dtype.\n",
      "  data = pd.concat([babelio_data, eclair_data, kerouac, manual], ignore_index = True)\n"
     ]
    }
   ],
   "source": []
  },
  {
   "cell_type": "code",
   "execution_count": 48,
   "metadata": {},
   "outputs": [
    {
     "name": "stderr",
     "output_type": "stream",
     "text": [
      "/var/folders/fg/s665ygqj6gq0l21kgx9k0rxm0000gp/T/ipykernel_22599/3528881970.py:1: DtypeWarning: Columns (16) have mixed types. Specify dtype option on import or set low_memory=False.\n",
      "  data = pd.read_csv('data/babelio_data.csv')\n"
     ]
    }
   ],
   "source": [
    "data = pd.read_csv('data/babelio_data.csv')\n",
    "a = data['haiku']\n",
    "b = data['nb_lines'] == 3"
   ]
  },
  {
   "cell_type": "code",
   "execution_count": 61,
   "metadata": {},
   "outputs": [
    {
     "name": "stdout",
     "output_type": "stream",
     "text": [
      "🦋\n"
     ]
    }
   ],
   "source": [
    "search_query = \"🦋\"\n",
    "search_words = tokenize(search_query)\n",
    "for word in search_words.split(\" \"):\n",
    "    print(word)    "
   ]
  },
  {
   "cell_type": "code",
   "execution_count": null,
   "metadata": {},
   "outputs": [],
   "source": []
  },
  {
   "cell_type": "code",
   "execution_count": 6,
   "metadata": {},
   "outputs": [
    {
     "name": "stderr",
     "output_type": "stream",
     "text": [
      "2024-11-11 11:36:20.749 WARNING streamlit.runtime.caching.cache_data_api: No runtime found, using MemoryCacheStorageManager\n"
     ]
    },
    {
     "name": "stdout",
     "output_type": "stream",
     "text": [
      "start\n",
      "Downloading: 100%|\u001b[32m██████████\u001b[0m|\n",
      "   int64_field_0                      text  author  year\n",
      "0              0     Haleluhia\\nHEre we go    Boby  2024\n",
      "1              1  Can we trust on it own ?  Anyway  1999\n",
      "2              2          Sure we do not !  Anyway  1998\n",
      "Done\n"
     ]
    }
   ],
   "source": [
    "\n",
    "from collections import defaultdict\n",
    "import pandas as pd\n",
    "import numpy as np\n",
    "import pandas_gbq\n",
    "from unidecode import unidecode\n",
    "from scrap_utils import tokenize\n",
    "from copy import copy\n",
    "\n",
    "from google.oauth2 import service_account\n",
    "from google.cloud import bigquery\n",
    "\n",
    "import streamlit as st\n",
    "from st_keyup import st_keyup # pip install streamlit-keyup\n",
    "# import streamlit.components.v1 as components # pip install extra-streamlit-components\n",
    "# from streamlit_extras.let_it_rain import rain\n",
    "# import streamlit_antd_components as sac\n",
    "# import streamlit_wordcloud as wordcloud # pip install streamlit-wordcloud\n",
    "\n",
    "from utils import *\n",
    "\n",
    "\n",
    "# Create API client.\n",
    "credentials = service_account.Credentials.from_service_account_info(st.secrets[\"gcp_service_account\"])\n",
    "# client = bigquery.Client(credentials=credentials)\n",
    "\n",
    "# st.write(client)\n",
    "# st.write(credentials)\n",
    "print('start')\n",
    "query = \"SELECT * from `prevert.v1.sample` limit 10\"\n",
    "rows_raw = pandas_gbq.read_gbq(query, credentials=credentials)\n",
    "print(rows_raw)\n",
    "print('Done')\n"
   ]
  }
 ],
 "metadata": {
  "kernelspec": {
   "display_name": "base",
   "language": "python",
   "name": "python3"
  },
  "language_info": {
   "codemirror_mode": {
    "name": "ipython",
    "version": 3
   },
   "file_extension": ".py",
   "mimetype": "text/x-python",
   "name": "python",
   "nbconvert_exporter": "python",
   "pygments_lexer": "ipython3",
   "version": "3.10.9"
  }
 },
 "nbformat": 4,
 "nbformat_minor": 2
}
