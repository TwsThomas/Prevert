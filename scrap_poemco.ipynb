{
 "cells": [
  {
   "cell_type": "code",
   "execution_count": 102,
   "metadata": {},
   "outputs": [
    {
     "name": "stdout",
     "output_type": "stream",
     "text": [
      "The autoreload extension is already loaded. To reload it, use:\n",
      "  %reload_ext autoreload\n"
     ]
    }
   ],
   "source": [
    "import pandas as pd\n",
    "import numpy as np\n",
    "import os\n",
    "import re\n",
    "import time\n",
    "\n",
    "import requests\n",
    "from bs4 import BeautifulSoup\n",
    "\n",
    "from scrap_utils import Quote, convert_manual_author, extrat_quote, tokenize, get_babelio_citation, scrap_recent_babelio\n",
    "%load_ext autoreload\n",
    "%autoreload 2"
   ]
  },
  {
   "cell_type": "code",
   "execution_count": 103,
   "metadata": {},
   "outputs": [],
   "source": [
    "headers = {'User-Agent': 'Mozilla/5.0 (Windows NT 10.0; Win64; x64) AppleWebKit/537.36 (KHTML, like Gecko) Chrome/111.0.0.0 Safari/537.36'}\n",
    "\n",
    "def get_poem(soup):\n",
    "    for ii, card in enumerate(soup.find_all('article', class_='entry-item')): # 'entry-description')):\n",
    "        quote = card.p.text\n",
    "        title = card.header.h1.text\n",
    "        author = card.header.span.text[4:]\n",
    "    return title, quote, author\n",
    "\n",
    "url =  [ # \"https://www.poemes.co/paul-eluard.html\",\n",
    "        \"https://www.poemes.co/jacques-prevert.html\",\n",
    "        \"https://www.poemes.co/paul-verlaine.html\",\n",
    "        \"https://www.poemes.co/victor-hugo.html\",\n",
    "        \"https://www.poemes.co/charles-baudelaire.html\",\n",
    "        \"https://www.poemes.co/alphonse-de-lamartine.html\",\n",
    "        \"https://www.poemes.co/rainer-maria-rilke.html\",\n",
    "        \"https://www.poemes.co/rene-francois-sully-prudhomme.html\",\n",
    "        \"https://www.poemes.co/robert-desnos.html\",\n",
    "        \"https://www.poemes.co/charles-leconte-de-lisle.html\",\n",
    "        \"https://www.poemes.co/etienne-de-la-boetie.html\",\n",
    "        \"https://www.poemes.co/guillaume-apollinaire.html\",\n",
    "        \"https://www.poemes.co/rene-char.html\",]"
   ]
  },
  {
   "cell_type": "code",
   "execution_count": null,
   "metadata": {},
   "outputs": [
    {
     "name": "stdout",
     "output_type": "stream",
     "text": [
      "https://www.poemes.co/jacques-prevert.html\n",
      "0.1."
     ]
    }
   ],
   "source": [
    "for url_author in url:\n",
    "    print(url_author)\n",
    "    list_lien_titre = []\n",
    "    old_list_lien_titre = []\n",
    "    for n_page in range(100):\n",
    "        url = f\"{url_author}?page={n_page}\"\n",
    "        response = requests.get(url, headers=headers)\n",
    "        html_content = response.content # .decode('utf-8')\n",
    "        soup = BeautifulSoup(html_content, 'html.parser')\n",
    "        print(n_page, end = \".\")\n",
    "        new_list_lien_titre = []\n",
    "        for ii, card in enumerate(soup.find_all('div', class_=\"widget kopa-article-list-widget categories-list-1\")):\n",
    "            for lien in card.find_all('ul'):\n",
    "                new_list_lien_titre.append(lien.a.attrs['href'])\n",
    "\n",
    "        if \".\".join(new_list_lien_titre) == \".\".join(old_list_lien_titre):\n",
    "            break\n",
    "        else:\n",
    "            old_list_lien_titre = new_list_lien_titre\n",
    "            list_lien_titre += new_list_lien_titre\n",
    "            time.sleep(1)\n",
    "            \n",
    "    pd.DataFrame(list_lien_titre).to_csv(f\"data_v2/scrap_poemesco/{url_author.split('/')[-1][:-4]}.csv\", index = False)\n",
    "    print(\"-\")\n",
    "    "
   ]
  },
  {
   "cell_type": "code",
   "execution_count": null,
   "metadata": {},
   "outputs": [
    {
     "name": "stdout",
     "output_type": "stream",
     "text": [
      "paul-eluard..csv\n",
      "0.1.2.3.4.5.6.7.8.9.10.11.12.13.14.15.16.17.18.19.20.21.22.23.24.25.26.27.28.29.30."
     ]
    },
    {
     "ename": "UnboundLocalError",
     "evalue": "local variable 'title' referenced before assignment",
     "output_type": "error",
     "traceback": [
      "\u001b[0;31m---------------------------------------------------------------------------\u001b[0m",
      "\u001b[0;31mUnboundLocalError\u001b[0m                         Traceback (most recent call last)",
      "Cell \u001b[0;32mIn[101], line 14\u001b[0m\n\u001b[1;32m     12\u001b[0m html_content \u001b[38;5;241m=\u001b[39m response\u001b[38;5;241m.\u001b[39mcontent \u001b[38;5;66;03m# .decode('utf-8')\u001b[39;00m\n\u001b[1;32m     13\u001b[0m soup \u001b[38;5;241m=\u001b[39m BeautifulSoup(html_content, \u001b[38;5;124m'\u001b[39m\u001b[38;5;124mhtml.parser\u001b[39m\u001b[38;5;124m'\u001b[39m)\n\u001b[0;32m---> 14\u001b[0m title, quote, author \u001b[38;5;241m=\u001b[39m \u001b[43mget_poem\u001b[49m\u001b[43m(\u001b[49m\u001b[43msoup\u001b[49m\u001b[43m)\u001b[49m\n\u001b[1;32m     15\u001b[0m \u001b[38;5;66;03m# print('°°°°°')\u001b[39;00m\n\u001b[1;32m     16\u001b[0m \u001b[38;5;66;03m# print(title, author, len(quote))\u001b[39;00m\n\u001b[1;32m     17\u001b[0m \u001b[38;5;66;03m# print(quote)\u001b[39;00m\n\u001b[1;32m     18\u001b[0m \u001b[38;5;66;03m# print('°°°°°')\u001b[39;00m\n\u001b[1;32m     19\u001b[0m q \u001b[38;5;241m=\u001b[39m Quote(quote, author \u001b[38;5;241m=\u001b[39m author, title \u001b[38;5;241m=\u001b[39m title, source \u001b[38;5;241m=\u001b[39m \u001b[38;5;124m\"\u001b[39m\u001b[38;5;124mwww.poemes.co\u001b[39m\u001b[38;5;124m\"\u001b[39m, url \u001b[38;5;241m=\u001b[39m url)\n",
      "Cell \u001b[0;32mIn[99], line 8\u001b[0m, in \u001b[0;36mget_poem\u001b[0;34m(soup)\u001b[0m\n\u001b[1;32m      6\u001b[0m     title \u001b[38;5;241m=\u001b[39m card\u001b[38;5;241m.\u001b[39mheader\u001b[38;5;241m.\u001b[39mh1\u001b[38;5;241m.\u001b[39mtext\n\u001b[1;32m      7\u001b[0m     author \u001b[38;5;241m=\u001b[39m card\u001b[38;5;241m.\u001b[39mheader\u001b[38;5;241m.\u001b[39mspan\u001b[38;5;241m.\u001b[39mtext[\u001b[38;5;241m4\u001b[39m:]\n\u001b[0;32m----> 8\u001b[0m \u001b[38;5;28;01mreturn\u001b[39;00m \u001b[43mtitle\u001b[49m, quote, author\n",
      "\u001b[0;31mUnboundLocalError\u001b[0m: local variable 'title' referenced before assignment"
     ]
    }
   ],
   "source": [
    "l_author_ = os.listdir(\"data_v2/scrap_poemesco\")\n",
    "\n",
    "for author_ in l_author_:\n",
    "    l_quote = []\n",
    "    print(author_)\n",
    "    df = pd.read_csv(f\"data_v2/scrap_poemesco/{author_}\")\n",
    "    list_titre = df[df.columns[0]]\n",
    "    for ii, url_titre in enumerate(list_titre):\n",
    "        print(ii, end = '.')\n",
    "        url = \"https://www.poemes.co/\" + url_titre\n",
    "        response = requests.get(url, headers=headers)\n",
    "        html_content = response.content # .decode('utf-8')\n",
    "        soup = BeautifulSoup(html_content, 'html.parser')\n",
    "        try:\n",
    "            title, quote, author = get_poem(soup)\n",
    "            q = Quote(quote, author = author, title = title, source = \"www.poemes.co\", url = url)\n",
    "            l_quote.append(q)\n",
    "            time.sleep(10)\n",
    "            pd.DataFrame([quote.__dict__ for quote in l_quote]).to_csv(f\"data_v2/scrap_poemesco_poem/{author_}.csv\", index = False)\n",
    "        except Exception as e:\n",
    "            print('-')\n",
    "            print('error:', ii, '/', len(list_titre))\n",
    "            print(url, e)\n",
    "            print(\"-\")\n",
    "            \n",
    "    pd.DataFrame([quote.__dict__ for quote in l_quote]).to_csv(f\"data_v2/scrap_poemesco_poem/{author_}.csv\", index = False)\n",
    "    print(\"-\")\n",
    "    print(\"-\")"
   ]
  },
  {
   "cell_type": "code",
   "execution_count": null,
   "metadata": {},
   "outputs": [],
   "source": []
  },
  {
   "cell_type": "code",
   "execution_count": null,
   "metadata": {},
   "outputs": [],
   "source": []
  }
 ],
 "metadata": {
  "kernelspec": {
   "display_name": "base",
   "language": "python",
   "name": "python3"
  },
  "language_info": {
   "codemirror_mode": {
    "name": "ipython",
    "version": 3
   },
   "file_extension": ".py",
   "mimetype": "text/x-python",
   "name": "python",
   "nbconvert_exporter": "python",
   "pygments_lexer": "ipython3",
   "version": "3.10.9"
  }
 },
 "nbformat": 4,
 "nbformat_minor": 2
}
